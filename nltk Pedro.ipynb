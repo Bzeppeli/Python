{
 "cells": [
  {
   "cell_type": "code",
   "execution_count": 1,
   "metadata": {},
   "outputs": [],
   "source": [
    "#import biblioteca\n",
    "from urllib.request import Request, urlopen"
   ]
  },
  {
   "cell_type": "code",
   "execution_count": 2,
   "metadata": {},
   "outputs": [
    {
     "name": "stdout",
     "output_type": "stream",
     "text": [
      "A corregedoria da Polícia Militar e o Ministério Público de São Paulo fazem uma operação nesta terça-feira (18) para prender 54 policiais militares e 5 integrantes da facção criminosa Primeiro Comando da Capital (PCC). Até as 12h, 50 PMs e três integrantes do PCC haviam sido presos. Segundo a Corregedoria da PM, esse é o maior número de policiais presos de uma vez. Batizada de Ubirajara, a operação mira um suposto esquema esquema de corrupção no 22º batalhão da PM no Jardim Marajoara, Zona Sul de São Paulo, do qual fazem parte os PMs alvos de mandados de prisão. A investigação é liderada pela corregedoria da PM e começou em fevereiro, após a interceptação de 82 mil ligações telefônicas que confirmaram a suspeita de que policiais estavam recebendo dinheiro de um traficante conhecido como 'Sandro' para não prendê-lo. Além de corrupção, são investigados os crimes de tráfico e associação para o tráfico. Há 86 mandados de busca e apreensão em São Paulo, Minas Gerais e Rio de Janeiro. Participam da operação 450 policiais militares, sendo 280 corregedores e 170 policiais do 2º Batalhão do Choque, além de promotores de Justiça. Todos os PMs que forem presos serão levados para o presídio Romão Gomes, no Tremembé, na Zona Norte de SP.\n"
     ]
    }
   ],
   "source": [
    "#Texto utilizado\n",
    "texto = \"A corregedoria da Polícia Militar e o Ministério Público de São Paulo fazem uma operação nesta terça-feira (18) para prender 54 policiais militares e 5 integrantes da facção criminosa Primeiro Comando da Capital (PCC). Até as 12h, 50 PMs e três integrantes do PCC haviam sido presos. Segundo a Corregedoria da PM, esse é o maior número de policiais presos de uma vez. Batizada de Ubirajara, a operação mira um suposto esquema esquema de corrupção no 22º batalhão da PM no Jardim Marajoara, Zona Sul de São Paulo, do qual fazem parte os PMs alvos de mandados de prisão. A investigação é liderada pela corregedoria da PM e começou em fevereiro, após a interceptação de 82 mil ligações telefônicas que confirmaram a suspeita de que policiais estavam recebendo dinheiro de um traficante conhecido como 'Sandro' para não prendê-lo. Além de corrupção, são investigados os crimes de tráfico e associação para o tráfico. Há 86 mandados de busca e apreensão em São Paulo, Minas Gerais e Rio de Janeiro. Participam da operação 450 policiais militares, sendo 280 corregedores e 170 policiais do 2º Batalhão do Choque, além de promotores de Justiça. Todos os PMs que forem presos serão levados para o presídio Romão Gomes, no Tremembé, na Zona Norte de SP.\"\n",
    "print(texto)"
   ]
  },
  {
   "cell_type": "code",
   "execution_count": 3,
   "metadata": {},
   "outputs": [],
   "source": [
    "#dividindo o texto em sentencas e palavras\n",
    "from nltk.tokenize import word_tokenize\n",
    "from nltk.tokenize import sent_tokenize\n",
    "sentencas = sent_tokenize(texto)\n",
    "palavras = word_tokenize(texto.lower())"
   ]
  },
  {
   "cell_type": "code",
   "execution_count": 4,
   "metadata": {},
   "outputs": [],
   "source": [
    "#retirando stopwords(palavras que nao possuem relevancia) e pontuacoes do texto\n",
    "from nltk.corpus import stopwords\n",
    "from string import punctuation\n",
    "stopwords = set(stopwords.words('portuguese') + list(punctuation))\n",
    "palavras_sem_stopwords = [palavra for palavra in palavras if palavra not in stopwords]"
   ]
  },
  {
   "cell_type": "code",
   "execution_count": 5,
   "metadata": {},
   "outputs": [],
   "source": [
    "#criando distribuicao de frequencia e pegando as palavras mais importantes do texto\n",
    "from nltk.probability import FreqDist\n",
    "frequencia = FreqDist(palavras_sem_stopwords)"
   ]
  },
  {
   "cell_type": "code",
   "execution_count": 6,
   "metadata": {},
   "outputs": [],
   "source": [
    "#Separando as sentencas mais importantes\n",
    "from collections import defaultdict\n",
    "sentencas_importantes = defaultdict(int)\n",
    "\n",
    "for i, sentenca in enumerate(sentencas):\n",
    "    for palavra in word_tokenize(sentenca.lower()):\n",
    "        if palavra in frequencia:\n",
    "            sentencas_importantes[i] += frequencia[palavra]"
   ]
  },
  {
   "cell_type": "code",
   "execution_count": 7,
   "metadata": {},
   "outputs": [
    {
     "name": "stdout",
     "output_type": "stream",
     "text": [
      "A corregedoria da Polícia Militar e o Ministério Público de São Paulo fazem uma operação nesta terça-feira (18) para prender 54 policiais militares e 5 integrantes da facção criminosa Primeiro Comando da Capital (PCC).\n",
      "Batizada de Ubirajara, a operação mira um suposto esquema esquema de corrupção no 22º batalhão da PM no Jardim Marajoara, Zona Sul de São Paulo, do qual fazem parte os PMs alvos de mandados de prisão.\n",
      "A investigação é liderada pela corregedoria da PM e começou em fevereiro, após a interceptação de 82 mil ligações telefônicas que confirmaram a suspeita de que policiais estavam recebendo dinheiro de um traficante conhecido como 'Sandro' para não prendê-lo.\n",
      "Participam da operação 450 policiais militares, sendo 280 corregedores e 170 policiais do 2º Batalhão do Choque, além de promotores de Justiça.\n"
     ]
    }
   ],
   "source": [
    "#Selecionando as 'n' sentencas mais importantes, nesse caso 4 sentencas\n",
    "from heapq import nlargest\n",
    "idx_sentencas_importantes = nlargest(4, sentencas_importantes, sentencas_importantes.get)\n",
    "#criando e mostrando o resumo\n",
    "for i in sorted(idx_sentencas_importantes):\n",
    "    print(sentencas[i])"
   ]
  },
  {
   "cell_type": "code",
   "execution_count": null,
   "metadata": {},
   "outputs": [],
   "source": []
  }
 ],
 "metadata": {
  "kernelspec": {
   "display_name": "Python 3",
   "language": "python",
   "name": "python3"
  },
  "language_info": {
   "codemirror_mode": {
    "name": "ipython",
    "version": 3
   },
   "file_extension": ".py",
   "mimetype": "text/x-python",
   "name": "python",
   "nbconvert_exporter": "python",
   "pygments_lexer": "ipython3",
   "version": "3.7.1"
  }
 },
 "nbformat": 4,
 "nbformat_minor": 2
}

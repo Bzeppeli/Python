{
 "cells": [
  {
   "cell_type": "code",
   "execution_count": 24,
   "metadata": {},
   "outputs": [],
   "source": [
    "#import da biblioteca para acessar http\n",
    "from urllib.request import Request, urlopen"
   ]
  },
  {
   "cell_type": "code",
   "execution_count": 30,
   "metadata": {},
   "outputs": [],
   "source": [
    "#link da noticia\n",
    "link = Request('https://ultimosegundo.ig.com.br/mundo/2019-01-20/homem-mais-velho-do-mundo-morre.html', \n",
    "               headers={'User Agent':'Mozilla/5.0 (Windows NT 10.0; Win64; x64) AppleWebKit/537.36 (KHTML, like Gecko) Chrome/70.0.3538.77 Safari/537.36'})"
   ]
  },
  {
   "cell_type": "code",
   "execution_count": 31,
   "metadata": {},
   "outputs": [],
   "source": [
    "#abrindo a link\n",
    "pagina = urlopen(link).read().decode('utf-8', 'ignore')"
   ]
  },
  {
   "cell_type": "code",
   "execution_count": 33,
   "metadata": {},
   "outputs": [],
   "source": [
    "#import da biblioteca BS para poder filtrar o html, e focar só no texto da noticia\n",
    "from bs4 import BeautifulSoup\n",
    "soup = BeautifulSoup(pagina, \"lxml\")\n",
    "texto = soup.find(id=\"noticia\").text"
   ]
  },
  {
   "cell_type": "code",
   "execution_count": 34,
   "metadata": {},
   "outputs": [],
   "source": [
    "#agora dividimos o tenxto em sentenças, e depois em palavras\n",
    "from nltk.tokenize import word_tokenize\n",
    "from nltk.tokenize import sent_tokenize"
   ]
  },
  {
   "cell_type": "code",
   "execution_count": 35,
   "metadata": {},
   "outputs": [],
   "source": [
    "sentencas = sent_tokenize(texto)\n",
    "palavras = word_tokenize(texto.lower())"
   ]
  },
  {
   "cell_type": "code",
   "execution_count": 36,
   "metadata": {},
   "outputs": [],
   "source": [
    "#Retiramos as palavras sem importancia(stopwords) palavras que possuem apenas significados sintaticos, mas sem relevancia\n",
    "from nltk.corpus import stopwords\n",
    "from string import punctuation"
   ]
  },
  {
   "cell_type": "code",
   "execution_count": 38,
   "metadata": {},
   "outputs": [],
   "source": [
    "#nota (IMPORTANTE) utilize set para que não permita palavras repitidas\n",
    "#e TEM que configurar o idioma das stopwords para o português, computador não é advinho!\n",
    "#é recomendado também retirar pontuações utilizando ponctuation da biblioteca string\n",
    "stopwords = set(stopwords.words('portuguese') + list(punctuation))\n",
    "palavras_sem_stopwords = [palavra for palavra in palavras if palavra not in stopwords]\n",
    "#por ultimo adiciona a lista sem stopwords na variavel"
   ]
  },
  {
   "cell_type": "code",
   "execution_count": 39,
   "metadata": {},
   "outputs": [],
   "source": [
    "#agora faremos a distribuição de frequencia para lista de palavras e descobrir quais as mais importantes\n",
    "from nltk.probability import FreqDist\n",
    "frequencia = FreqDist(palavras_sem_stopwords)"
   ]
  },
  {
   "cell_type": "code",
   "execution_count": 40,
   "metadata": {},
   "outputs": [],
   "source": [
    "#separamos as sentenças de maior importancia para criar uma tabela pontuando elas, pelo numero de vezes que aparece\n",
    "#então para isso usamos defaultdict, uma especie de dicionario da biblioteca collections\n",
    "from collections import defaultdict\n",
    "sentencas_importantes = defaultdict(int)"
   ]
  },
  {
   "cell_type": "code",
   "execution_count": 41,
   "metadata": {},
   "outputs": [],
   "source": [
    "#assim podemos popular nosso dicionario com um loop para percorrer todas as sentenças e pegar os dados\n",
    "for i, sentenca in enumerate(sentencas):\n",
    "    for palavra in word_tokenize(sentenca.lower()):\n",
    "        if palavra in frequencia:\n",
    "            sentencas_importantes[i] += frequencia[palavra]\n",
    "#então conseguimos popular o dicionario com o indice da sentença sendo a key\n",
    "#e a soma da frequencia de cada palavra sendo o value"
   ]
  },
  {
   "cell_type": "code",
   "execution_count": 44,
   "metadata": {},
   "outputs": [],
   "source": [
    "#agor vamos selecionar as N sentenças mais importantes(que escolhi 5)\n",
    "from heapq import nlargest\n",
    "idx_sentencas_importantes = nlargest(5, sentencas_importantes, sentencas_importantes.get)"
   ]
  },
  {
   "cell_type": "code",
   "execution_count": 46,
   "metadata": {},
   "outputs": [
    {
     "name": "stdout",
     "output_type": "stream",
     "text": [
      "\n",
      " \n",
      "\n",
      "\n",
      " Divulgação/ Guinness World Records\n",
      "Considerado o homem mais velho do mundo, o japonês Masazo Nonaka morreu neste domingo (20) \n",
      "\n",
      "\n",
      "Considerado o homem mais velho do mundo, Masazo Nonaka morreu neste domeigo (20) aos 113 anos em sua casa, numa pousada com fontes termais, no Japão.\n",
      "Leia também: Pessoa mais velha do mundo, Nabi Tajima, morre aos 117 anos no Japão\n",
      "\n",
      "Os seus familiares disseram que Nonaka morreu de causas naturais.\n",
      "O centenário, cuja família administra uma pousada com fontes termais há quatro gerações, foi certificado no ano passado como o                   homem mais velho do mundo\n",
      " aos 112 anos e 259 dias.\n",
      "Jiroemon Kimura nasceu em 19 de abril de 1897 e morreu com 116 anos e 54 dias, em 12 de junho de 2013 - quatro anos mais velho que Masazo.\n",
      "Leia também: Em um \"relacionamento sério\" há 26 anos, tartaruga mais velha do mundo é gay\n",
      "\n",
      "No entanto, segundo as informações da BBC, Mbah Ghoto não era reconhecido como o                   homem mais velho do mundo\n",
      " da história.\n"
     ]
    }
   ],
   "source": [
    "#agora só imprimir o resumo\n",
    "for i in sorted(idx_sentencas_importantes):\n",
    "    print(sentencas[i])\n",
    "#nota: a parte do \"leia também\" foi por conta do site, não sei oque fazer sobre"
   ]
  },
  {
   "cell_type": "code",
   "execution_count": null,
   "metadata": {},
   "outputs": [],
   "source": []
  }
 ],
 "metadata": {
  "kernelspec": {
   "display_name": "Python 3",
   "language": "python",
   "name": "python3"
  },
  "language_info": {
   "codemirror_mode": {
    "name": "ipython",
    "version": 3
   },
   "file_extension": ".py",
   "mimetype": "text/x-python",
   "name": "python",
   "nbconvert_exporter": "python",
   "pygments_lexer": "ipython3",
   "version": "3.7.1"
  }
 },
 "nbformat": 4,
 "nbformat_minor": 2
}
